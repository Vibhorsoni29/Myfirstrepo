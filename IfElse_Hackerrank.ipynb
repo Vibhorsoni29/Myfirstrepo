{
 "cells": [
  {
   "cell_type": "code",
   "execution_count": null,
   "id": "2c506274",
   "metadata": {},
   "outputs": [],
   "source": [
    "n = int(input().strip())\n",
    "if 1<=n<=100 :\n",
    "    if n%2 != 0 : \n",
    "        print(\"Weird\")\n",
    "    elif n%2 == 0  and n in range(2,6) :\n",
    "        print(\"Not Weird\")\n",
    "    elif n%2 == 0 and n in range (6,65) :\n",
    "        print(\"Weird\")   \n",
    "    elif n%2 == 0 and n>20 :\n",
    "        print(\"Not Weird\")\n",
    "    else :\n",
    "        print(\"Invalid Input\")\n",
    "else :\n",
    "    print(\"Invaild Input\")        \n"
   ]
  }
 ],
 "metadata": {
  "kernelspec": {
   "display_name": "Python 3",
   "language": "python",
   "name": "python3"
  },
  "language_info": {
   "codemirror_mode": {
    "name": "ipython",
    "version": 3
   },
   "file_extension": ".py",
   "mimetype": "text/x-python",
   "name": "python",
   "nbconvert_exporter": "python",
   "pygments_lexer": "ipython3",
   "version": "3.13.5"
  }
 },
 "nbformat": 4,
 "nbformat_minor": 5
}
